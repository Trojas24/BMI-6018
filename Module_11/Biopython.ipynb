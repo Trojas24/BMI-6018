{
 "cells": [
  {
   "cell_type": "code",
   "execution_count": null,
   "id": "31d8bf7e-2d71-43be-86fa-48b80f37628e",
   "metadata": {},
   "outputs": [],
   "source": [
    "# Introduction to Biopython\n",
    "# Biopython is a library designed for bioinformatics and computational biology tasks.\n",
    "# It provides tools for working with biological data such as DNA, RNA, and protein sequences.\n",
    "# Biopython can handle file formats like FASTA, GenBank, PDB, and others.\n",
    "# It supports tasks like sequence analysis, structural bioinformatics, and database queries.\n",
    "# Source: https://biopython.org/"
   ]
  },
  {
   "cell_type": "code",
   "execution_count": null,
   "id": "348749fd-f389-4cb0-bde2-17b6b0ea2368",
   "metadata": {},
   "outputs": [],
   "source": [
    "# Advantages:\n",
    "# 1. Comprehensive support for bioinformatics tasks, including sequence analysis and structural bioinformatics.\n",
    "# 2. Handles a wide range of file formats used in bioinformatics, such as FASTA, GenBank, and PDB.\n",
    "# 3. Actively maintained with extensive documentation and community support.\n",
    "\n",
    "# Limitations:\n",
    "# 1. Requires a basic understanding of bioinformatics concepts, making it less accessible to beginners.\n",
    "# 2. Some features rely on external databases or tools, which may require additional setup (e.g., BLAST queries).\n",
    "# 3. Not suitable for large-scale genomics projects requiring heavy computational resources.\n"
   ]
  },
  {
   "cell_type": "code",
   "execution_count": 7,
   "id": "23ecd591-f0ea-4fba-bbfd-402081ffaa3d",
   "metadata": {},
   "outputs": [
    {
     "name": "stdout",
     "output_type": "stream",
     "text": [
      "Requirement already satisfied: biopython in c:\\users\\mothe\\anaconda3\\lib\\site-packages (1.84)\n",
      "Requirement already satisfied: numpy in c:\\users\\mothe\\anaconda3\\lib\\site-packages (from biopython) (1.26.4)\n",
      "Parsing sequences from FASTA file:\n",
      "ID: sequence1\n",
      "Sequence: ATGCGACTACGATCGATCGTAGCTAGTACGATCGATCGATCGA\n",
      "GC Content: 48.84%\n",
      "\n",
      "ID: sequence2\n",
      "Sequence: ATGCTAGCTAGTACGATGATCGATCGTAGCTAGCTAGCATGCT\n",
      "GC Content: 46.51%\n",
      "\n",
      "Demonstrating sequence manipulation:\n",
      "Original Sequence: ATGCGACTACGATCGATCGTAGCTAGTACGATCG\n",
      "Complement: TACGCTGATGCTAGCTAGCATCGATCATGCTAGC\n",
      "Reverse Complement: CGATCGTACTAGCTACGATCGATCGTAGTCGCAT\n",
      "Translated Protein: MRLRSIVASTI\n"
     ]
    },
    {
     "name": "stderr",
     "output_type": "stream",
     "text": [
      "C:\\Users\\mothe\\anaconda3\\Lib\\site-packages\\Bio\\Seq.py:2879: BiopythonWarning: Partial codon, len(sequence) not a multiple of three. Explicitly trim the sequence or add trailing N before translation. This may become an error in future.\n",
      "  warnings.warn(\n"
     ]
    }
   ],
   "source": [
    "!pip install biopython\n",
    "from Bio import SeqIO\n",
    "from Bio.Seq import Seq\n",
    "\n",
    "# Example dataset: Simulated FASTA sequences\n",
    "fasta_data = \"\"\">sequence1\n",
    "ATGCGACTACGATCGATCGTAGCTAGTACGATCGATCGATCGA\n",
    ">sequence2\n",
    "ATGCTAGCTAGTACGATGATCGATCGTAGCTAGCTAGCATGCT\n",
    "\"\"\"\n",
    "\n",
    "with open(\"example.fasta\", \"w\") as file:\n",
    "    file.write(fasta_data)\n",
    "\n",
    "# Parsing the FASTA file\n",
    "print(\"Parsing sequences from FASTA file:\")\n",
    "for record in SeqIO.parse(\"example.fasta\", \"fasta\"):\n",
    "    seq = record.seq\n",
    "    gc_content = 100 * float(seq.count(\"G\") + seq.count(\"C\")) / len(seq)  # GC calculation\n",
    "    print(f\"ID: {record.id}\")\n",
    "    print(f\"Sequence: {seq}\")\n",
    "    print(f\"GC Content: {gc_content:.2f}%\")\n",
    "    print()\n",
    "\n",
    "# Sequence manipulation\n",
    "print(\"Demonstrating sequence manipulation:\")\n",
    "seq = Seq(\"ATGCGACTACGATCGATCGTAGCTAGTACGATCG\")\n",
    "print(f\"Original Sequence: {seq}\")\n",
    "print(f\"Complement: {seq.complement()}\")\n",
    "print(f\"Reverse Complement: {seq.reverse_complement()}\")\n",
    "print(f\"Translated Protein: {seq.translate()}\")\n"
   ]
  },
  {
   "cell_type": "code",
   "execution_count": null,
   "id": "c3295ff5-be6c-4cbf-a674-f88aec5431cd",
   "metadata": {},
   "outputs": [],
   "source": []
  }
 ],
 "metadata": {
  "kernelspec": {
   "display_name": "Python 3 (ipykernel)",
   "language": "python",
   "name": "python3"
  },
  "language_info": {
   "codemirror_mode": {
    "name": "ipython",
    "version": 3
   },
   "file_extension": ".py",
   "mimetype": "text/x-python",
   "name": "python",
   "nbconvert_exporter": "python",
   "pygments_lexer": "ipython3",
   "version": "3.12.4"
  }
 },
 "nbformat": 4,
 "nbformat_minor": 5
}
