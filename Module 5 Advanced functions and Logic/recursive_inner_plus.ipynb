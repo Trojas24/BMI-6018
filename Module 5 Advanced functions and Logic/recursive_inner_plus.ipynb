{
 "cells": [
  {
   "cell_type": "code",
   "execution_count": 3,
   "id": "eb18c495-df09-4a2b-b298-05a9162f4ac6",
   "metadata": {},
   "outputs": [
    {
     "name": "stdout",
     "output_type": "stream",
     "text": [
      "[9, 10]\n"
     ]
    }
   ],
   "source": [
    "def innermost_list_add_1_recursive(input_list):\n",
    "    if type(input_list) != list:\n",
    "        return input_list\n",
    "    for element in input_list:\n",
    "        if type(element) == list:\n",
    "            return innermost_list_add_1_recursive(element)\n",
    "    return [x + 1 for x in input_list]\n"
   ]
  },
  {
   "cell_type": "code",
   "execution_count": null,
   "id": "2ab98906-16e8-4495-8f43-28427ecfe392",
   "metadata": {},
   "outputs": [],
   "source": []
  }
 ],
 "metadata": {
  "kernelspec": {
   "display_name": "Python 3 (ipykernel)",
   "language": "python",
   "name": "python3"
  },
  "language_info": {
   "codemirror_mode": {
    "name": "ipython",
    "version": 3
   },
   "file_extension": ".py",
   "mimetype": "text/x-python",
   "name": "python",
   "nbconvert_exporter": "python",
   "pygments_lexer": "ipython3",
   "version": "3.12.4"
  }
 },
 "nbformat": 4,
 "nbformat_minor": 5
}
