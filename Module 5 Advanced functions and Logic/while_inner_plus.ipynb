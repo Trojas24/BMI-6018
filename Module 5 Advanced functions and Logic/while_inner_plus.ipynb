{
 "cells": [
  {
   "cell_type": "code",
   "execution_count": 17,
   "id": "86afc41b-0bf7-44af-a1b8-55af8b5d6082",
   "metadata": {},
   "outputs": [
    {
     "name": "stdout",
     "output_type": "stream",
     "text": [
      "[9, 10]\n"
     ]
    }
   ],
   "source": [
    "def find_innermost_list(input_list):\n",
    "    current_list = input_list \n",
    " \n",
    "    while True: \n",
    "        found_list = False \n",
    "        index = 0  \n",
    "        while index < len(current_list):\n",
    "            if type(current_list[index]) == list:\n",
    "                current_list = current_list[index]\n",
    "                found_list = True\n",
    "                break  \n",
    "            index += 1 \n",
    "        if not found_list:\n",
    "            break\n",
    "    index = 0 \n",
    "    while index < len(current_list):\n",
    "        current_list[index] += 1 \n",
    "        index += 1\n",
    "    return current_list  \n",
    "\n",
    "\n",
    "# Example usage:\n",
    "input_list = [1, 2, 3, 4, [5, 6, 7, [8, 9]]]\n",
    "result = find_innermost_list(input_list)\n",
    "print(result)  # Output: [9, 10]"
   ]
  },
  {
   "cell_type": "code",
   "execution_count": null,
   "id": "9cf90b45-21b0-4d4c-9efb-1dfd7fe1d823",
   "metadata": {},
   "outputs": [],
   "source": []
  }
 ],
 "metadata": {
  "kernelspec": {
   "display_name": "Python 3 (ipykernel)",
   "language": "python",
   "name": "python3"
  },
  "language_info": {
   "codemirror_mode": {
    "name": "ipython",
    "version": 3
   },
   "file_extension": ".py",
   "mimetype": "text/x-python",
   "name": "python",
   "nbconvert_exporter": "python",
   "pygments_lexer": "ipython3",
   "version": "3.12.4"
  }
 },
 "nbformat": 4,
 "nbformat_minor": 5
}
