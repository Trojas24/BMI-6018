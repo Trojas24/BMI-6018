{
 "cells": [
  {
   "cell_type": "code",
   "execution_count": 1,
   "id": "3e4c4d42-2edd-4026-bc40-b7e2b04ea27b",
   "metadata": {},
   "outputs": [],
   "source": [
    "def filter_list(input_list, threshold):\n",
    "    filtered_list = []\n",
    "    for x in input_list:\n",
    "        if x <= threshold:\n",
    "            filtered_list.append(x)\n",
    "    return filtered_list"
   ]
  },
  {
   "cell_type": "code",
   "execution_count": null,
   "id": "f7204cbd-9e1f-43c9-bae1-abdcd1d215c1",
   "metadata": {},
   "outputs": [],
   "source": []
  },
  {
   "cell_type": "code",
   "execution_count": null,
   "id": "2b03065c-b57b-4ed6-b6f1-66a1b1b12dd2",
   "metadata": {},
   "outputs": [],
   "source": []
  }
 ],
 "metadata": {
  "kernelspec": {
   "display_name": "Python 3 (ipykernel)",
   "language": "python",
   "name": "python3"
  },
  "language_info": {
   "codemirror_mode": {
    "name": "ipython",
    "version": 3
   },
   "file_extension": ".py",
   "mimetype": "text/x-python",
   "name": "python",
   "nbconvert_exporter": "python",
   "pygments_lexer": "ipython3",
   "version": "3.12.4"
  }
 },
 "nbformat": 4,
 "nbformat_minor": 5
}
