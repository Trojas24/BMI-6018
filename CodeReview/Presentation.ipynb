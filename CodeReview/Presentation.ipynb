{
 "cells": [
  {
   "cell_type": "markdown",
   "id": "6e7f7b07-b36b-4577-b83b-8882be623b7f",
   "metadata": {},
   "source": [
    "Question 7\n",
    "Jack has been prescribed 5 medications, write a variable named \"Medication\", and store in it the number of medications he has. Print the type of the variable ''Medication\""
   ]
  },
  {
   "cell_type": "code",
   "execution_count": null,
   "id": "b5db9fe2-40d3-4865-b3dc-1dfd94724053",
   "metadata": {},
   "outputs": [],
   "source": [
    "#a variable is like a container that holds information or data.\n",
    "#In this case, we’re using the variable Medication to represent the number of medications Jack has been prescribed.\n",
    "#type() function in Python is used to check the type of a variable. It tells us whether the variable is an integer, a string, a float, or another data type"
   ]
  },
  {
   "cell_type": "code",
   "execution_count": 1,
   "id": "c7e20d81-6ce8-4d7b-a52e-8cfb03d43df2",
   "metadata": {},
   "outputs": [
    {
     "name": "stdout",
     "output_type": "stream",
     "text": [
      "<class 'str'>\n"
     ]
    }
   ],
   "source": [
    "Medication = \"Tylenol\"\n",
    "print(type(Medication))"
   ]
  },
  {
   "cell_type": "code",
   "execution_count": 3,
   "id": "b21a6b96-99d8-4c6f-92a7-3f367a96b1e8",
   "metadata": {},
   "outputs": [
    {
     "name": "stdout",
     "output_type": "stream",
     "text": [
      "<class 'float'>\n"
     ]
    }
   ],
   "source": [
    "Medication = 5.0\n",
    "print(type(Medication))"
   ]
  },
  {
   "cell_type": "code",
   "execution_count": 5,
   "id": "71d9ede2-3af3-47a7-aa7e-df507562c290",
   "metadata": {},
   "outputs": [
    {
     "name": "stdout",
     "output_type": "stream",
     "text": [
      "<class 'bool'>\n"
     ]
    }
   ],
   "source": [
    "Medication = True\n",
    "print(type(Medication))"
   ]
  },
  {
   "cell_type": "code",
   "execution_count": 7,
   "id": "816da99a-9a86-45fa-8508-4dd51638a68d",
   "metadata": {},
   "outputs": [
    {
     "name": "stdout",
     "output_type": "stream",
     "text": [
      "<class 'int'>\n"
     ]
    }
   ],
   "source": [
    "Medication = 5\n",
    "print(type(Medication))"
   ]
  },
  {
   "cell_type": "code",
   "execution_count": null,
   "id": "f44810ac-0c68-4ac5-90ff-9a6249400eb0",
   "metadata": {},
   "outputs": [],
   "source": []
  }
 ],
 "metadata": {
  "kernelspec": {
   "display_name": "Python 3 (ipykernel)",
   "language": "python",
   "name": "python3"
  },
  "language_info": {
   "codemirror_mode": {
    "name": "ipython",
    "version": 3
   },
   "file_extension": ".py",
   "mimetype": "text/x-python",
   "name": "python",
   "nbconvert_exporter": "python",
   "pygments_lexer": "ipython3",
   "version": "3.12.4"
  }
 },
 "nbformat": 4,
 "nbformat_minor": 5
}
