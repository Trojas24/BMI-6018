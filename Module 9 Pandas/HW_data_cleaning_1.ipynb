{
 "cells": [
  {
   "cell_type": "code",
   "execution_count": 26,
   "id": "29909393-6673-481c-9ed5-76bf653db52e",
   "metadata": {},
   "outputs": [],
   "source": [
    "import pandas as pd\n",
    "import numpy as np\n",
    "import matplotlib.pyplot as plt\n",
    "flights_data = pd.read_csv(\"flights.csv\")\n",
    "weather_data_pd = pd.read_csv(\"weather.csv\")\n",
    "weather_data_np = weather_data_pd.to_numpy()\n"
   ]
  },
  {
   "cell_type": "code",
   "execution_count": 132,
   "id": "6b345bec-799c-4b43-9e97-1b9896790cea",
   "metadata": {},
   "outputs": [
    {
     "data": {
      "text/html": [
       "<div>\n",
       "<style scoped>\n",
       "    .dataframe tbody tr th:only-of-type {\n",
       "        vertical-align: middle;\n",
       "    }\n",
       "\n",
       "    .dataframe tbody tr th {\n",
       "        vertical-align: top;\n",
       "    }\n",
       "\n",
       "    .dataframe thead th {\n",
       "        text-align: right;\n",
       "    }\n",
       "</style>\n",
       "<table border=\"1\" class=\"dataframe\">\n",
       "  <thead>\n",
       "    <tr style=\"text-align: right;\">\n",
       "      <th></th>\n",
       "      <th>Unnamed: 0</th>\n",
       "      <th>origin</th>\n",
       "      <th>year</th>\n",
       "      <th>month</th>\n",
       "      <th>day</th>\n",
       "      <th>hour</th>\n",
       "      <th>temp</th>\n",
       "      <th>dewp</th>\n",
       "      <th>humid</th>\n",
       "      <th>wind_dir</th>\n",
       "      <th>wind_speed</th>\n",
       "      <th>wind_gust</th>\n",
       "      <th>precip</th>\n",
       "      <th>pressure</th>\n",
       "      <th>visib</th>\n",
       "    </tr>\n",
       "  </thead>\n",
       "  <tbody>\n",
       "    <tr>\n",
       "      <th>0</th>\n",
       "      <td>1</td>\n",
       "      <td>EWR</td>\n",
       "      <td>2013</td>\n",
       "      <td>1.0</td>\n",
       "      <td>1.0</td>\n",
       "      <td>0.0</td>\n",
       "      <td>37.04</td>\n",
       "      <td>21.92</td>\n",
       "      <td>53.97</td>\n",
       "      <td>230.0</td>\n",
       "      <td>10.35702</td>\n",
       "      <td>11.918651</td>\n",
       "      <td>0.0</td>\n",
       "      <td>1013.9</td>\n",
       "      <td>10.0</td>\n",
       "    </tr>\n",
       "    <tr>\n",
       "      <th>1</th>\n",
       "      <td>2</td>\n",
       "      <td>EWR</td>\n",
       "      <td>2013</td>\n",
       "      <td>1.0</td>\n",
       "      <td>1.0</td>\n",
       "      <td>1.0</td>\n",
       "      <td>37.04</td>\n",
       "      <td>21.92</td>\n",
       "      <td>53.97</td>\n",
       "      <td>230.0</td>\n",
       "      <td>13.80936</td>\n",
       "      <td>15.891535</td>\n",
       "      <td>0.0</td>\n",
       "      <td>1013.0</td>\n",
       "      <td>10.0</td>\n",
       "    </tr>\n",
       "    <tr>\n",
       "      <th>2</th>\n",
       "      <td>3</td>\n",
       "      <td>EWR</td>\n",
       "      <td>2013</td>\n",
       "      <td>1.0</td>\n",
       "      <td>1.0</td>\n",
       "      <td>2.0</td>\n",
       "      <td>37.94</td>\n",
       "      <td>21.92</td>\n",
       "      <td>52.09</td>\n",
       "      <td>230.0</td>\n",
       "      <td>12.65858</td>\n",
       "      <td>14.567241</td>\n",
       "      <td>0.0</td>\n",
       "      <td>1012.6</td>\n",
       "      <td>10.0</td>\n",
       "    </tr>\n",
       "    <tr>\n",
       "      <th>3</th>\n",
       "      <td>4</td>\n",
       "      <td>EWR</td>\n",
       "      <td>2013</td>\n",
       "      <td>1.0</td>\n",
       "      <td>1.0</td>\n",
       "      <td>3.0</td>\n",
       "      <td>37.94</td>\n",
       "      <td>23.00</td>\n",
       "      <td>54.51</td>\n",
       "      <td>230.0</td>\n",
       "      <td>13.80936</td>\n",
       "      <td>15.891535</td>\n",
       "      <td>0.0</td>\n",
       "      <td>1012.7</td>\n",
       "      <td>10.0</td>\n",
       "    </tr>\n",
       "    <tr>\n",
       "      <th>4</th>\n",
       "      <td>5</td>\n",
       "      <td>EWR</td>\n",
       "      <td>2013</td>\n",
       "      <td>1.0</td>\n",
       "      <td>1.0</td>\n",
       "      <td>4.0</td>\n",
       "      <td>37.94</td>\n",
       "      <td>24.08</td>\n",
       "      <td>57.04</td>\n",
       "      <td>240.0</td>\n",
       "      <td>14.96014</td>\n",
       "      <td>17.215830</td>\n",
       "      <td>0.0</td>\n",
       "      <td>1012.8</td>\n",
       "      <td>10.0</td>\n",
       "    </tr>\n",
       "    <tr>\n",
       "      <th>5</th>\n",
       "      <td>6</td>\n",
       "      <td>EWR</td>\n",
       "      <td>2013</td>\n",
       "      <td>1.0</td>\n",
       "      <td>1.0</td>\n",
       "      <td>6.0</td>\n",
       "      <td>39.02</td>\n",
       "      <td>26.06</td>\n",
       "      <td>59.37</td>\n",
       "      <td>270.0</td>\n",
       "      <td>10.35702</td>\n",
       "      <td>11.918651</td>\n",
       "      <td>0.0</td>\n",
       "      <td>1012.0</td>\n",
       "      <td>10.0</td>\n",
       "    </tr>\n",
       "    <tr>\n",
       "      <th>6</th>\n",
       "      <td>7</td>\n",
       "      <td>EWR</td>\n",
       "      <td>2013</td>\n",
       "      <td>1.0</td>\n",
       "      <td>1.0</td>\n",
       "      <td>7.0</td>\n",
       "      <td>39.02</td>\n",
       "      <td>26.96</td>\n",
       "      <td>61.63</td>\n",
       "      <td>250.0</td>\n",
       "      <td>8.05546</td>\n",
       "      <td>9.270062</td>\n",
       "      <td>0.0</td>\n",
       "      <td>1012.3</td>\n",
       "      <td>10.0</td>\n",
       "    </tr>\n",
       "    <tr>\n",
       "      <th>7</th>\n",
       "      <td>8</td>\n",
       "      <td>EWR</td>\n",
       "      <td>2013</td>\n",
       "      <td>1.0</td>\n",
       "      <td>1.0</td>\n",
       "      <td>8.0</td>\n",
       "      <td>39.02</td>\n",
       "      <td>28.04</td>\n",
       "      <td>64.43</td>\n",
       "      <td>240.0</td>\n",
       "      <td>11.50780</td>\n",
       "      <td>13.242946</td>\n",
       "      <td>0.0</td>\n",
       "      <td>1012.5</td>\n",
       "      <td>10.0</td>\n",
       "    </tr>\n",
       "    <tr>\n",
       "      <th>8</th>\n",
       "      <td>9</td>\n",
       "      <td>EWR</td>\n",
       "      <td>2013</td>\n",
       "      <td>1.0</td>\n",
       "      <td>1.0</td>\n",
       "      <td>9.0</td>\n",
       "      <td>39.92</td>\n",
       "      <td>28.04</td>\n",
       "      <td>62.21</td>\n",
       "      <td>250.0</td>\n",
       "      <td>12.65858</td>\n",
       "      <td>14.567241</td>\n",
       "      <td>0.0</td>\n",
       "      <td>1012.2</td>\n",
       "      <td>10.0</td>\n",
       "    </tr>\n",
       "    <tr>\n",
       "      <th>9</th>\n",
       "      <td>10</td>\n",
       "      <td>EWR</td>\n",
       "      <td>2013</td>\n",
       "      <td>1.0</td>\n",
       "      <td>1.0</td>\n",
       "      <td>10.0</td>\n",
       "      <td>39.02</td>\n",
       "      <td>28.04</td>\n",
       "      <td>64.43</td>\n",
       "      <td>260.0</td>\n",
       "      <td>12.65858</td>\n",
       "      <td>14.567241</td>\n",
       "      <td>0.0</td>\n",
       "      <td>1011.9</td>\n",
       "      <td>10.0</td>\n",
       "    </tr>\n",
       "  </tbody>\n",
       "</table>\n",
       "</div>"
      ],
      "text/plain": [
       "   Unnamed: 0 origin  year  month  day  hour   temp   dewp  humid  wind_dir  \\\n",
       "0           1    EWR  2013    1.0  1.0   0.0  37.04  21.92  53.97     230.0   \n",
       "1           2    EWR  2013    1.0  1.0   1.0  37.04  21.92  53.97     230.0   \n",
       "2           3    EWR  2013    1.0  1.0   2.0  37.94  21.92  52.09     230.0   \n",
       "3           4    EWR  2013    1.0  1.0   3.0  37.94  23.00  54.51     230.0   \n",
       "4           5    EWR  2013    1.0  1.0   4.0  37.94  24.08  57.04     240.0   \n",
       "5           6    EWR  2013    1.0  1.0   6.0  39.02  26.06  59.37     270.0   \n",
       "6           7    EWR  2013    1.0  1.0   7.0  39.02  26.96  61.63     250.0   \n",
       "7           8    EWR  2013    1.0  1.0   8.0  39.02  28.04  64.43     240.0   \n",
       "8           9    EWR  2013    1.0  1.0   9.0  39.92  28.04  62.21     250.0   \n",
       "9          10    EWR  2013    1.0  1.0  10.0  39.02  28.04  64.43     260.0   \n",
       "\n",
       "   wind_speed  wind_gust  precip  pressure  visib  \n",
       "0    10.35702  11.918651     0.0    1013.9   10.0  \n",
       "1    13.80936  15.891535     0.0    1013.0   10.0  \n",
       "2    12.65858  14.567241     0.0    1012.6   10.0  \n",
       "3    13.80936  15.891535     0.0    1012.7   10.0  \n",
       "4    14.96014  17.215830     0.0    1012.8   10.0  \n",
       "5    10.35702  11.918651     0.0    1012.0   10.0  \n",
       "6     8.05546   9.270062     0.0    1012.3   10.0  \n",
       "7    11.50780  13.242946     0.0    1012.5   10.0  \n",
       "8    12.65858  14.567241     0.0    1012.2   10.0  \n",
       "9    12.65858  14.567241     0.0    1011.9   10.0  "
      ]
     },
     "execution_count": 132,
     "metadata": {},
     "output_type": "execute_result"
    }
   ],
   "source": [
    "flights_data.head(10)\n",
    "weather_data_pd.head(10)"
   ]
  },
  {
   "cell_type": "markdown",
   "id": "c9a1f9cf-9f50-46fa-8f7e-ad670735483f",
   "metadata": {},
   "source": [
    "#Question 1 How many flights were there from JFK to SLC? Int\n",
    "q_1\n",
    "#Question 2 How many airlines fly to SLC? Should be int\n",
    "q_2\n",
    "#Question 3 What is the average arrival delay for flights to RDU? float\n",
    "q_3\n",
    "#Question 4 What proportion of flights to SEA come from the two NYC airports (LGA\n",
    "and JFK)? float\n",
    "q_4\n",
    "#Question 5 Which date has the largest average depature delay? Pd slice with date\n",
    "and float\n",
    "#please make date a column. Preferred format is 2013/1/1 (y/m/d)\n",
    "q_5\n",
    "#Question 6 Which date has the largest average arrival delay? pd slice with date\n",
    "and float\n",
    "q_6\n",
    "#Question 7 Which flight departing LGA or JFK in 2013 flew the fastest? pd slice\n",
    "with tailnumber and speed\n",
    "#speed = distance/airtime\n",
    "q_7\n",
    "#Question 8 Replace all nans in the weather pd dataframe with 0s. Pd with no nans\n",
    "q_8\n",
    "#%% Numpy Data Filtering/Sorting Question Answering\n",
    "#Use weather_data_np\n",
    "#Question 9 How many observations were made in Feburary? Int\n",
    "q_9\n",
    "#Question 10 What was the mean for humidity in February? Float\n",
    "q_10\n",
    "#Question 11 What was the std for humidity in February? Float\n",
    "q_11\n"
   ]
  },
  {
   "cell_type": "code",
   "execution_count": 31,
   "id": "7bcdffd3-731a-4fe8-890f-34b09805f284",
   "metadata": {},
   "outputs": [
    {
     "name": "stdout",
     "output_type": "stream",
     "text": [
      "2113\n"
     ]
    }
   ],
   "source": [
    "#QUESTION 1\n",
    "jfk_to_slc_condition = (flights_data['origin'] == \"JFK\") & (flights_data['dest'] == 'SLC')\n",
    "jfk_to_slc_flights = flights_data[jfk_to_slc_condition]\n",
    "num_flights = jfk_to_slc_flights.shape[0]\n",
    "\n",
    "print(num_flights)\n"
   ]
  },
  {
   "cell_type": "code",
   "execution_count": 33,
   "id": "ce0c4eac-6e35-49da-a8c8-8f5dcfe92fb4",
   "metadata": {},
   "outputs": [
    {
     "name": "stdout",
     "output_type": "stream",
     "text": [
      "2\n"
     ]
    }
   ],
   "source": [
    "#QUESTION 2\n",
    "fly_to_slc_condition = flights_data['dest'] == 'SLC'\n",
    "flights_to_slc = flights_data[fly_to_slc_condition]\n",
    "unique_airlines = print(len(flights_to_slc['carrier'].unique()))\n"
   ]
  },
  {
   "cell_type": "code",
   "execution_count": 35,
   "id": "82483f0d-bf8d-45bd-bc6c-d841932cb267",
   "metadata": {},
   "outputs": [
    {
     "name": "stdout",
     "output_type": "stream",
     "text": [
      "10.052380952380952\n"
     ]
    }
   ],
   "source": [
    "#QUESTION 3\n",
    "flights_to_rdu_condition = flights_data['dest'] == 'RDU'\n",
    "flights_to_rdu = flights_data[flights_to_rdu_condition]\n",
    "arr_delay = print(flights_to_rdu['arr_delay'].mean())\n"
   ]
  },
  {
   "cell_type": "code",
   "execution_count": 43,
   "id": "d9ef948d-95dd-4fec-8010-0e7bc6d81576",
   "metadata": {},
   "outputs": [
    {
     "name": "stdout",
     "output_type": "stream",
     "text": [
      "0.5332653581442773\n"
     ]
    }
   ],
   "source": [
    "#QUESTION 4\n",
    "flights_to_sea_condition = flights_data['dest'] == 'SEA'\n",
    "flights_to_sea = flights_data[flights_to_sea_condition]\n",
    "flights_from_ny = (flights_to_sea['origin'] == 'JFK') |  (flights_to_sea['origin'] == 'LGA')\n",
    "proportion = print(flights_from_ny.sum()/flights_to_sea.shape[0])\n"
   ]
  },
  {
   "cell_type": "code",
   "execution_count": 45,
   "id": "3ded007e-c169-47db-9ab6-187e677829d5",
   "metadata": {},
   "outputs": [
    {
     "name": "stdout",
     "output_type": "stream",
     "text": [
      "83.5369211514393\n",
      "2013-03-08 00:00:00\n"
     ]
    }
   ],
   "source": [
    "#QUESTION 5\n",
    "flights_data['date'] = pd.to_datetime(flights_data[['year', 'month', 'day']])\n",
    "average_delay_by_date = flights_data.groupby('date')['dep_delay'].mean()\n",
    "max_delay_value = print(average_delay_by_date.max())\n",
    "max_delay_date = print(average_delay_by_date.idxmax())\n"
   ]
  },
  {
   "cell_type": "code",
   "execution_count": 47,
   "id": "ffd061ef-b19e-4bc5-b625-db075b7322a0",
   "metadata": {},
   "outputs": [
    {
     "name": "stdout",
     "output_type": "stream",
     "text": [
      "85.86215538847118\n",
      "2013-03-08 00:00:00\n"
     ]
    }
   ],
   "source": [
    "#QUESTION 6\n",
    "average_delay_by_date = flights_data.groupby('date')['arr_delay'].mean()\n",
    "max_arr_delay_value = print(average_delay_by_date.max())\n",
    "max_arr_delay_date = print(average_delay_by_date.idxmax())"
   ]
  },
  {
   "cell_type": "code",
   "execution_count": 83,
   "id": "5838efe7-d8a7-4e21-a23e-4db15253c020",
   "metadata": {},
   "outputs": [
    {
     "name": "stdout",
     "output_type": "stream",
     "text": [
      "tailnum       N666DN\n",
      "speed      11.723077\n",
      "Name: 216447, dtype: object\n"
     ]
    }
   ],
   "source": [
    "#QUESTION 7\n",
    "flights_out_of_ny_condition = (flights_data['origin'] == 'LGA') | (flights_data['origin'] == 'JFK' ) \n",
    "flights_out_of_ny = flights_data[flights_out_of_ny_condition]\n",
    "flights_data['speed'] = flights_data['distance'] / flights_data['air_time']\n",
    "max_speed_index = flights_out_of_ny['speed'].idxmax()\n",
    "fastest_flight = print(flights_out_of_ny.loc[max_speed_index, ['tailnum', 'speed']])\n"
   ]
  },
  {
   "cell_type": "code",
   "execution_count": 116,
   "id": "68e3f67d-1b86-44a7-afdf-e20638a1d269",
   "metadata": {},
   "outputs": [
    {
     "name": "stdout",
     "output_type": "stream",
     "text": [
      "Unnamed: 0    0\n",
      "origin        0\n",
      "year          0\n",
      "month         0\n",
      "day           0\n",
      "hour          0\n",
      "temp          0\n",
      "dewp          0\n",
      "humid         0\n",
      "wind_dir      0\n",
      "wind_speed    0\n",
      "wind_gust     0\n",
      "precip        0\n",
      "pressure      0\n",
      "visib         0\n",
      "dtype: int64\n"
     ]
    }
   ],
   "source": [
    "#QUESTION 8\n",
    "weather_data_pd = weather_data_pd.fillna(0)\n",
    "print(weather_data_pd.isna().sum())"
   ]
  },
  {
   "cell_type": "code",
   "execution_count": 137,
   "id": "2b9d591e-65c3-4d62-9819-b7107048eefb",
   "metadata": {},
   "outputs": [
    {
     "name": "stdout",
     "output_type": "stream",
     "text": [
      "671\n"
     ]
    }
   ],
   "source": [
    "#QUESTION 9\n",
    "february_condition = weather_data_np[:, 3] == 2 \n",
    "february_data = weather_data_np[february_condition]\n",
    "num_observations_february = print(february_data.shape[0])\n"
   ]
  },
  {
   "cell_type": "code",
   "execution_count": null,
   "id": "c4869d43-845f-43f0-b5ac-0fb359d5307a",
   "metadata": {},
   "outputs": [],
   "source": [
    "#QUESTION 10\n"
   ]
  },
  {
   "cell_type": "code",
   "execution_count": null,
   "id": "a8cad5d3-77bb-4b54-9b53-bc4a09467389",
   "metadata": {},
   "outputs": [],
   "source": []
  }
 ],
 "metadata": {
  "kernelspec": {
   "display_name": "Python 3 (ipykernel)",
   "language": "python",
   "name": "python3"
  },
  "language_info": {
   "codemirror_mode": {
    "name": "ipython",
    "version": 3
   },
   "file_extension": ".py",
   "mimetype": "text/x-python",
   "name": "python",
   "nbconvert_exporter": "python",
   "pygments_lexer": "ipython3",
   "version": "3.12.4"
  }
 },
 "nbformat": 4,
 "nbformat_minor": 5
}
