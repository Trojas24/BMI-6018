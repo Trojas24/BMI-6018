{
 "cells": [
  {
   "cell_type": "markdown",
   "id": "43edadf2-5141-4bbf-b096-3e69eaf9863c",
   "metadata": {},
   "source": []
  },
  {
   "cell_type": "code",
   "execution_count": 1,
   "id": "da63a613-1165-4635-b2e1-973f4e37d420",
   "metadata": {},
   "outputs": [],
   "source": [
    "import pandas as pd\n",
    "import numpy as np\n",
    "\n",
    "# QUESTION 1\n",
    "p = pd.Series([1, 2, 3, 4, 5, 6, 7, 8, 9, 10])\n",
    "q = pd.Series([10, 9, 8, 7, 6, 5, 4, 3, 2, 1])\n",
    "euclidean_distance = sum((p - q) ** 2) ** 0.5"
   ]
  },
  {
   "cell_type": "code",
   "execution_count": 2,
   "id": "22452cdc-0836-4106-b8a6-837e9b575bf6",
   "metadata": {},
   "outputs": [],
   "source": [
    "# QUESTION 2\n",
    "df = pd.DataFrame(np.arange(20).reshape(-1, 5), columns=list('abcde'))\n",
    "df = df[['c', 'b', 'a', 'd', 'e']]"
   ]
  },
  {
   "cell_type": "code",
   "execution_count": 5,
   "id": "f4d60aa3-423d-46c0-a2f7-0b67e72d1860",
   "metadata": {},
   "outputs": [],
   "source": [
    "# QUESTION 3\n",
    "def interchange_columns(df, col1, col2):\n",
    "    cols = list(df.columns)\n",
    "    idx1, idx2 = cols.index(col1), cols.index(col2)\n",
    "    cols[idx1], cols[idx2] = cols[idx2], cols[idx1]\n",
    "    return df[cols]\n",
    "df = interchange_columns(df, 'a', 'c')"
   ]
  },
  {
   "cell_type": "code",
   "execution_count": 7,
   "id": "911e25bf-2b95-41d3-a61e-7350cdead176",
   "metadata": {},
   "outputs": [],
   "source": [
    "# QUESTION 4\n",
    "df = pd.DataFrame(np.random.random(4) ** 10, columns=['random'])\n",
    "df['random'] = df['random'].map(lambda x: f\"{x:.4f}\")"
   ]
  },
  {
   "cell_type": "code",
   "execution_count": 9,
   "id": "8b53ec09-a486-4fd1-a15e-bda48458d63a",
   "metadata": {},
   "outputs": [],
   "source": [
    "# QUESTION 5\n",
    "df = pd.DataFrame(np.random.randint(1, 100, 40).reshape(10, -1), columns=list('pqrs'), index=list('abcdefghij'))\n",
    "def nearest_row(df):\n",
    "    distances = np.empty((len(df), len(df)))\n",
    "    for i, row1 in enumerate(df.values):\n",
    "        for j, row2 in enumerate(df.values):\n",
    "            distances[i, j] = np.linalg.norm(row1 - row2)\n",
    "    nearest_indices = np.argmin(distances + np.eye(len(df)) * distances.max(), axis=1)\n",
    "    df['nearest_row'] = df.index[nearest_indices]\n",
    "    df['dist'] = distances[np.arange(len(df)), nearest_indices]\n",
    "nearest_row(df)"
   ]
  },
  {
   "cell_type": "code",
   "execution_count": 11,
   "id": "bd561187-548c-470f-9548-bd00e3e9d5c8",
   "metadata": {},
   "outputs": [],
   "source": [
    "# QUESTION 6\n",
    "data = {'A': [45, 37, 0, 42, 50],\n",
    "        'B': [38, 31, 1, 26, 90],\n",
    "        'C': [10, 15, -10, 17, 100],\n",
    "        'D': [60, 99, 15, 23, 56],\n",
    "        'E': [76, 98, -0.03, 78, 90]}\n",
    "df = pd.DataFrame(data)\n",
    "correlation_matrix = df.corr()"
   ]
  },
  {
   "cell_type": "code",
   "execution_count": null,
   "id": "aa18a91d-b437-43a9-a48d-6a1a3f74d0f2",
   "metadata": {},
   "outputs": [],
   "source": []
  }
 ],
 "metadata": {
  "kernelspec": {
   "display_name": "Python 3 (ipykernel)",
   "language": "python",
   "name": "python3"
  },
  "language_info": {
   "codemirror_mode": {
    "name": "ipython",
    "version": 3
   },
   "file_extension": ".py",
   "mimetype": "text/x-python",
   "name": "python",
   "nbconvert_exporter": "python",
   "pygments_lexer": "ipython3",
   "version": "3.12.4"
  }
 },
 "nbformat": 4,
 "nbformat_minor": 5
}
