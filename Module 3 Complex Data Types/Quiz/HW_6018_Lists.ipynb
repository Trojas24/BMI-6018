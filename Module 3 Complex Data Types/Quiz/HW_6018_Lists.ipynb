{
 "cells": [
  {
   "cell_type": "markdown",
   "id": "3c46f8f3-2b87-4541-94a3-0ba147e70a63",
   "metadata": {},
   "source": [
    "\"\"\"BMI 6018 Fall 2022 \n",
    "\n",
    "Instructions: For this assignment, please return all answers as variables in your\n",
    ".py file. You will quickly note that you will need to find answers outside the\n",
    "class lectures. This is not an accident! You will need to become professionally\n",
    "comfortable with looking things up via the python docs and google. \n",
    "\n",
    "Ensure that all variables are labelled according to the example. IE the answer\n",
    "to problem 1 part c should be labelled one_c. While all questions are answerable\n",
    "with a single line of code, you are free to use helper variables so long as they\n",
    "are helpfully/informatively named. \n",
    "\n",
    "I should be able to open your .py file and run it without errors. I will **not** be \n",
    "debugging your code for you. If your file does not run, it will **not** be graded. \n",
    "If you are unsure if your file will run, open up a chpc terminal and test it there.\n",
    "\n",
    "For this assignment, please only use base python files types. That is: there \n",
    "should be no import calls in your file save my use of sys at the end.\n",
    "\n",
    "Example Problem\n",
    "\n",
    "0.a Create a list of strings\n",
    "0.b Using a str method, capitalize one of the elements in the list using a slice\n",
    "0.c Coerce one character of the list to display as a hex\n",
    "\n",
    "zero_a = ['first','second','third','fourth','fifth']\n",
    "zero_b = zero_a[1].upper()\n",
    "zero_c = hex(ord(zero_a[1][1]))\n",
    "\n",
    "#Problem 1: Lists, Sets and Coersion\n",
    "\n",
    "1.a Create a list of integers no fewer than 10 items from 0 to 9.\n",
    " .b Add 3 to the 5th indexed element\n",
    " .c Coerce all elements in the list to floats using list comprehension\n",
    " .d Coerce the list to a set\n",
    " .e Using a method, append int 10 to the set\n",
    " .f Using a method, pop an item from the set\n",
    " .g Using a length counting function, count the number of items in the set\n",
    " .h Check if the number of items in the set is the same as the \n",
    "    number of items in the list\n",
    " .i Coerce the set to a list and use the \"+\" operator combine the list to the list from 1.a\n",
    " .j Coerce 1.i to a set\n",
    " .k Count the number of elements in the 1.j\n",
    "\n",
    "\n",
    "\n",
    "Problem 2: Dictionary woes\n",
    "\n",
    "2.a Combine the three sample dictionaries (given below) into a nested dictionary (nested in programming means joined), named \n",
    "    two_a, ensure the key names are the same as the dictionary names.\n",
    " .b Using keys, retrieve the Dango's name from 2.a\n",
    " .c Using keys, update the value of Mochi's year to 2018. This should not be a variable\n",
    "    and should simply update 2.a.\n",
    " .d Manually create a dictionary that has a single level and contains each patient\n",
    "    as the key and the year as the value. Set Mochi's year to 2019.'\n",
    " .e Coerce the keys of 2.d into a list\n",
    " .f Coerce the values of 2.d into a list\n",
    " .g Use the zip function to combine 2.e and 2.f into a dictionary again\n",
    "\n",
    "\n",
    "two_patient_dictionary_kinoko = {\n",
    "  \"name\" : \"Kinoko\",\n",
    "  \"year\" : 2021\n",
    "}\n",
    "two_patient_dictionary_dango = {\n",
    "  \"name\" : \"Dango\",\n",
    "  \"year\" : 2019\n",
    "}\n",
    "two_patient_dictionary_mochi  = {\n",
    "  \"name\" : \"Mochi\",\n",
    "  \"year\" : 2020\n",
    "}\n",
    "\n",
    "\n",
    "\n",
    "Problem 3: Set combinations\n",
    "\n",
    "Given the predefined sets below and using set methods\n",
    "3.a Is set E a subset of set A\n",
    " .b Is set E a strict subset of set A\n",
    " .c Create a set that is the intersection of set A and set B\n",
    " .d Create a set that is the union of sets C, D and E\n",
    " .e add 9 to the set\n",
    " .f Using == compare this set to the list in one_a\n",
    " .g Explain why they are not the same. What would you need to change if you\n",
    "    wanted this to be True?\n",
    " \n",
    "\n",
    "three_setA = {1,2,3,4,5}\n",
    "three_setB = {2,3,4,5,6}\n",
    "three_setC = {3,5,7,9}\n",
    "three_setD = {2,4,6,8}\n",
    "three_setE = {1,2,3,4}\n",
    "\n",
    "\n",
    "\n",
    "Problem 4: Changing variable types\n",
    "\n",
    "For each step you will modify a variable, then append the type of the variable\n",
    "to a list. Do not recreate the list variable, it should be a running list of \n",
    "types.\n",
    "\n",
    "4.a Create a variable of type int with the value of 8\n",
    " .b Create an empty list \n",
    " .c Using type(), add the type of 4.a to this list\n",
    " .d Add 0.39 to 4.c\n",
    " .e append the type of 0.39 to the list\n",
    " .f exponentiate to the -10, ie: 4.d^-10,(hint: there might be an artihmetic operator to do so) round it to no \n",
    "    decimal places, and append to list.\n",
    " .g append the type to the list\n",
    " \n",
    " \n",
    "Problem 5: More variable type changes\n",
    "\n",
    "Continue from where you left off in Problem 4.\n",
    "\n",
    "5.a Manually create a dictionary where the values are items in the list from where we left in \n",
    "    problem 4, and the keys should be their index in the list. Print the dictionary.\n",
    " .b Add 300 and coerce it into a string\n",
    " .c append the type to the list\n",
    " .d slice the string up to the 2nd element\n",
    " .e append the type to the list\n",
    " .f use list comprehension to convert this into a new list of integers\n",
    " .g append the type to the list\n",
    " .h append the type of three_setA to the list\n",
    "\"\"\"\n",
    "\n",
    "#Start your assignment here\n",
    "print(\"Assignment 3\")\n",
    "\n"
   ]
  },
  {
   "cell_type": "markdown",
   "id": "38b42d51-3c94-412e-9d32-9ba600c428a4",
   "metadata": {},
   "source": [
    "QUESTION 1\n",
    "a Create a list of integers no fewer than 10 items from 0 to 9.\n",
    " .b Add 3 to the 5th indexed element\n",
    " .c Coerce all elements in the list to floats using list comprehension\n",
    " .d Coerce the list to a set\n",
    " .e Using a method, append int 10 to the set\n",
    " .f Using a method, pop an item from the set\n",
    " .g Using a length counting function, count the number of items in the set\n",
    " .h Check if the number of items in the set is the same as the \n",
    "    number of items in the list\n",
    " .i Coerce the set to a list and use the \"+\" operator combine the list to the list from 1.a\n",
    " .j Coerce 1.i to a set\n",
    " .k Count the number of elements in the 1.j"
   ]
  },
  {
   "cell_type": "code",
   "execution_count": 49,
   "id": "18f63c3c-983d-44bb-bb8c-5fec233d9337",
   "metadata": {},
   "outputs": [
    {
     "name": "stdout",
     "output_type": "stream",
     "text": [
      "9\n"
     ]
    }
   ],
   "source": [
    "#Question 1\n",
    "one_a = [1,2,3,4,5,6,7,8,9,8,7,6]\n",
    "one_b = one_a.insert(4, 3)\n",
    "one_c = [float(x) for x in one_a] \n",
    "one_d = set(one_a)\n",
    "one_e = one_d.add(10)\n",
    "one_f = one_d.remove(10)\n",
    "one_g = len(one_d)\n",
    "one_h = len(one_c) == len(one_d)\n",
    "one_i = list(one_d)+ one_a\n",
    "one_j = set(one_i)\n",
    "one_k = len(one_j)"
   ]
  },
  {
   "cell_type": "markdown",
   "id": "053c511e-cb71-4270-9b2f-1c3a5900231e",
   "metadata": {},
   "source": [
    "QUESTION 2\n",
    "a Combine the three sample dictionaries (given below) into a nested dictionary (nested in programming means joined), named \n",
    "    two_a, ensure the key names are the same as the dictionary names.\n",
    " .b Using keys, retrieve the Dango's name from 2.a\n",
    " .c Using keys, update the value of Mochi's year to 2018. This should not be a variable\n",
    "    and should simply update 2.a.\n",
    " .d Manually create a dictionary that has a single level and contains each patient\n",
    "    as the key and the year as the value. Set Mochi's year to 2019.'\n",
    " .e Coerce the keys of 2.d into a list\n",
    " .f Coerce the values of 2.d into a list\n",
    " .g Use the zip function to combine 2.e and 2.f into a dictionary again\n"
   ]
  },
  {
   "cell_type": "code",
   "execution_count": 75,
   "id": "ffa2f732-f22b-45d6-9dc6-609857e3400f",
   "metadata": {},
   "outputs": [],
   "source": [
    "two_patient_dictionary_kinoko = {\n",
    "  \"name\" : \"Kinoko\",\n",
    "  \"year\" : 2021\n",
    "}\n",
    "two_patient_dictionary_dango = {\n",
    "  \"name\" : \"Dango\",\n",
    "  \"year\" : 2019\n",
    "}\n",
    "two_patient_dictionary_mochi  = {\n",
    "  \"name\" : \"Mochi\",\n",
    "  \"year\" : 2020\n",
    "}\n",
    "two_a = two_a = {\n",
    "    'two_patient_dictionary_kinoko': two_patient_dictionary_kinoko,\n",
    "    'two_patient_dictionary_dango': two_patient_dictionary_dango,\n",
    "    'two_patient_dictionary_mochi': two_patient_dictionary_mochi\n",
    "}\n",
    "two_b = two_a[\"two_patient_dictionary_dango\"][\"name\"]\n",
    "two_a[\"two_patient_dictionary_mochi\"][\"year\"] = 2018\n",
    "two_d = {\"Kinoko\": 2021, \"Dango\": 2019, \"Mochi\": 2019}\n",
    "two_e = list(two_d.keys())\n",
    "two_f = list(two_d.values())\n",
    "two_g =  dict(zip(two_e, two_f))"
   ]
  },
  {
   "cell_type": "markdown",
   "id": "081f48c2-7292-4e5c-affe-713b552e4917",
   "metadata": {},
   "source": [
    "QUESTION 3\n",
    "\n",
    "Given the predefined sets below and using set methods\n",
    "3.a Is set E a subset of set A\n",
    " .b Is set E a strict subset of set A\n",
    " .c Create a set that is the intersection of set A and set B\n",
    " .d Create a set that is the union of sets C, D and E\n",
    " .e add 9 to the set\n",
    " .f Using == compare this set to the list in one_a\n",
    " .g Explain why they are not the same. What would you need to change if you\n",
    "    wanted this to be True?"
   ]
  },
  {
   "cell_type": "code",
   "execution_count": 85,
   "id": "08059495-1410-4786-ae41-fcc85ef9d6b6",
   "metadata": {},
   "outputs": [
    {
     "name": "stdout",
     "output_type": "stream",
     "text": [
      "True\n"
     ]
    }
   ],
   "source": [
    "three_setA = {1,2,3,4,5}\n",
    "three_setB = {2,3,4,5,6}\n",
    "three_setC = {3,5,7,9}\n",
    "three_setD = {2,4,6,8}\n",
    "three_setE = {1,2,3,4}\n",
    "\n",
    "three_a = three_setE.issubset(three_setA)\n",
    "#yes\n",
    "three_b = three_setE < three_setA\n",
    "#yes\n",
    "three_c = three_setA.intersection(three_setB)\n",
    "three_d = three_setC.union(three_setD, three_setE)\n",
    "three_d.add(9)\n",
    "three_f = three_d == one_a\n",
    "#False\n",
    "three_g = set(one_a) == three_d\n",
    "#make one_a into a set so it doesnt repeat #s"
   ]
  },
  {
   "cell_type": "markdown",
   "id": "a56b032a-7e70-4dc1-9614-7db9a34a7e13",
   "metadata": {},
   "source": [
    "QUESTION 4\n",
    "\n",
    "Problem 4: Changing variable types\n",
    "\n",
    "For each step you will modify a variable, then append the type of the variable\n",
    "to a list. Do not recreate the list variable, it should be a running list of \n",
    "types.\n",
    "\n",
    "4.a Create a variable of type int with the value of 8\n",
    " .b Create an empty list \n",
    " .c Using type(), add the type of 4.a to this list\n",
    " .d Add 0.39 to 4.c\n",
    " .e append the type of 0.39 to the list\n",
    " .f exponentiate to the -10, ie: 4.d^-10,(hint: there might be an artihmetic operator to do so) round it to no \n",
    "    decimal places, and append to list.\n",
    " .g append the type to the list"
   ]
  },
  {
   "cell_type": "code",
   "execution_count": 145,
   "id": "d2f1544d-50dd-4ad9-bec9-da082ba6383a",
   "metadata": {
    "scrolled": true
   },
   "outputs": [
    {
     "name": "stdout",
     "output_type": "stream",
     "text": [
      "[<class 'int'>, 0.37, <class 'float'>, 0, <class 'int'>]\n"
     ]
    }
   ],
   "source": [
    "four_a = 8 \n",
    "four_b = []\n",
    "four_c =four_b.append(type(four_a))\n",
    "four_d = four_b.append(0.39)\n",
    "four_e = four_b.append(type(0.39))\n",
    "four_f = round(four_a ** -10)\n",
    "four_b.append(four_f)\n",
    "four_g = four_b.append(type(four_f))\n",
    "print(four_b)"
   ]
  },
  {
   "cell_type": "markdown",
   "id": "ac55687b-f788-4145-92ff-c616de61c7e6",
   "metadata": {},
   "source": [
    "QUESTION 5\n",
    "5.a Manually create a dictionary where the values are items in the list from where we left in \n",
    "    problem 4, and the keys should be their index in the list. Print the dictionary.\n",
    " .b Add 300 and coerce it into a string\n",
    " .c append the type to the list\n",
    " .d slice the string up to the 2nd element\n",
    " .e append the type to the list\n",
    " .f use list comprehension to convert this into a new list of integers\n",
    " .g append the type to the list\n",
    " .h append the type of three_setA to the list"
   ]
  },
  {
   "cell_type": "code",
   "execution_count": 163,
   "id": "06e329ab-9146-4351-9c3a-e6b1c4a6a6be",
   "metadata": {},
   "outputs": [
    {
     "name": "stdout",
     "output_type": "stream",
     "text": [
      "{0: <class 'int'>, 1: 0.37, 2: <class 'float'>, 3: 0, 4: <class 'int'>, 5: <class 'str'>, 6: <class 'str'>, 7: <class 'str'>, 8: <class 'str'>, 9: <class 'str'>, 10: <class 'str'>, 11: <class 'str'>, 12: <class 'list'>}\n"
     ]
    }
   ],
   "source": [
    "five_a = {index: value for index, value in enumerate(four_b)}\n",
    "print(five_a)\n",
    "five_b = str(300)\n",
    "five_c = four_b.append(type((five_b)))\n",
    "five_d = five_b[:2]\n",
    "five_e = four_b.append(type(five_d)) \n",
    "five_f =  [int(char) for char in five_d]\n",
    "five_g = four_b.append(type(five_f)) \n",
    "five_h = four_b.append(type(three_setA))\n"
   ]
  },
  {
   "cell_type": "code",
   "execution_count": null,
   "id": "d8f7cde1-1d06-4d3c-96ca-c210f3263796",
   "metadata": {},
   "outputs": [],
   "source": []
  }
 ],
 "metadata": {
  "kernelspec": {
   "display_name": "Python 3 (ipykernel)",
   "language": "python",
   "name": "python3"
  },
  "language_info": {
   "codemirror_mode": {
    "name": "ipython",
    "version": 3
   },
   "file_extension": ".py",
   "mimetype": "text/x-python",
   "name": "python",
   "nbconvert_exporter": "python",
   "pygments_lexer": "ipython3",
   "version": "3.12.4"
  }
 },
 "nbformat": 4,
 "nbformat_minor": 5
}
